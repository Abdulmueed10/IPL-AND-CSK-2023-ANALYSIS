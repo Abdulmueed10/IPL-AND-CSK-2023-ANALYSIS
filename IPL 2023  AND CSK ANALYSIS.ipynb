{
 "cells": [
  {
   "cell_type": "markdown",
   "metadata": {
    "application/vnd.databricks.v1+cell": {
     "cellMetadata": {},
     "inputWidgets": {},
     "nuid": "2f1ec728-a6bf-4330-a234-e0cc93b1cc51",
     "showTitle": false,
     "title": ""
    }
   },
   "source": [
    "TOP MAN OF MATCH AWARD FOR CSK"
   ]
  },
  {
   "cell_type": "code",
   "execution_count": 0,
   "metadata": {
    "application/vnd.databricks.v1+cell": {
     "cellMetadata": {
      "byteLimit": 2048000,
      "rowLimit": 10000
     },
     "inputWidgets": {},
     "nuid": "16a5c346-28cc-4a68-9f3a-6a34790d1739",
     "showTitle": false,
     "title": ""
    }
   },
   "outputs": [
    {
     "output_type": "stream",
     "name": "stdout",
     "output_type": "stream",
     "text": [
      "+------------+-----+\n|man_of_match|count|\n+------------+-----+\n|   RA Jadeja|    3|\n|   DP Conway|    3|\n|  RD Gaikwad|    2|\n|    RK Singh|    1|\n|      MM Ali|    1|\n+------------+-----+\nonly showing top 5 rows\n\n"
     ]
    }
   ],
   "source": [
    "csk_man_of_match = csk_matches.groupBy(\"man_of_match\").count().orderBy(col(\"count\").desc())\n",
    "csk_man_of_match.show(5)\n"
   ]
  },
  {
   "cell_type": "markdown",
   "metadata": {
    "application/vnd.databricks.v1+cell": {
     "cellMetadata": {},
     "inputWidgets": {},
     "nuid": "85db226c-fe00-4bec-945d-ff2630d96556",
     "showTitle": false,
     "title": ""
    }
   },
   "source": [
    "CSK WIN LOSS RATIO"
   ]
  },
  {
   "cell_type": "code",
   "execution_count": 0,
   "metadata": {
    "application/vnd.databricks.v1+cell": {
     "cellMetadata": {
      "byteLimit": 2048000,
      "rowLimit": 10000
     },
     "inputWidgets": {},
     "nuid": "a9586256-d602-4fba-9be5-e954361d822f",
     "showTitle": false,
     "title": ""
    }
   },
   "outputs": [
    {
     "output_type": "stream",
     "name": "stdout",
     "output_type": "stream",
     "text": [
      "CSK Win/Loss Ratio: 1.6666666666666667\n"
     ]
    }
   ],
   "source": [
    "csk_losses = num_csk_matches - csk_wins\n",
    "csk_win_loss_ratio = csk_wins / csk_losses if csk_losses != 0 else csk_wins\n",
    "print(\"CSK Win/Loss Ratio:\", csk_win_loss_ratio)\n"
   ]
  },
  {
   "cell_type": "markdown",
   "metadata": {
    "application/vnd.databricks.v1+cell": {
     "cellMetadata": {},
     "inputWidgets": {},
     "nuid": "add0cfbb-b3a1-47a3-aa88-3d2299550f81",
     "showTitle": false,
     "title": ""
    }
   },
   "source": [
    "CSK WIN PERCENTAGE"
   ]
  },
  {
   "cell_type": "code",
   "execution_count": 0,
   "metadata": {
    "application/vnd.databricks.v1+cell": {
     "cellMetadata": {
      "byteLimit": 2048000,
      "rowLimit": 10000
     },
     "inputWidgets": {},
     "nuid": "f66939bb-5e8c-449a-ab52-7eb820d65fcf",
     "showTitle": false,
     "title": ""
    }
   },
   "outputs": [
    {
     "output_type": "stream",
     "name": "stdout",
     "output_type": "stream",
     "text": [
      "CSK Win Percentage: 62.5\n"
     ]
    }
   ],
   "source": [
    "csk_wins = csk_matches.filter(col(\"winner\") == \"Chennai Super Kings\").count()\n",
    "csk_win_percentage = (csk_wins / num_csk_matches) * 100\n",
    "print(\"CSK Win Percentage:\", csk_win_percentage)\n"
   ]
  },
  {
   "cell_type": "markdown",
   "metadata": {
    "application/vnd.databricks.v1+cell": {
     "cellMetadata": {},
     "inputWidgets": {},
     "nuid": "81035e87-560a-435e-b9c8-61d7fd36af17",
     "showTitle": false,
     "title": ""
    }
   },
   "source": [
    "NUMBER OF MATCHES CSK PLAYED"
   ]
  },
  {
   "cell_type": "code",
   "execution_count": 0,
   "metadata": {
    "application/vnd.databricks.v1+cell": {
     "cellMetadata": {
      "byteLimit": 2048000,
      "rowLimit": 10000
     },
     "inputWidgets": {},
     "nuid": "b24bdd47-7c18-4691-a0fa-d3857a78cd69",
     "showTitle": false,
     "title": ""
    }
   },
   "outputs": [
    {
     "output_type": "stream",
     "name": "stdout",
     "output_type": "stream",
     "text": [
      "Number of matches played by CSK: 16\n"
     ]
    }
   ],
   "source": [
    "csk_matches = df.filter((col(\"team1\") == \"Chennai Super Kings\") | (col(\"team2\") == \"Chennai Super Kings\"))\n",
    "num_csk_matches = csk_matches.count()\n",
    "print(\"Number of matches played by CSK:\", num_csk_matches)\n"
   ]
  },
  {
   "cell_type": "markdown",
   "metadata": {
    "application/vnd.databricks.v1+cell": {
     "cellMetadata": {},
     "inputWidgets": {},
     "nuid": "d5b76f1a-f2d1-4595-a9d6-c39e0c32c326",
     "showTitle": false,
     "title": ""
    }
   },
   "source": [
    "TOSS DECISION"
   ]
  },
  {
   "cell_type": "code",
   "execution_count": 0,
   "metadata": {
    "application/vnd.databricks.v1+cell": {
     "cellMetadata": {
      "byteLimit": 2048000,
      "rowLimit": 10000
     },
     "inputWidgets": {},
     "nuid": "f9bac12b-168c-4e59-a863-d4507fee3b18",
     "showTitle": false,
     "title": ""
    }
   },
   "outputs": [
    {
     "output_type": "stream",
     "name": "stdout",
     "output_type": "stream",
     "text": [
      "+-------------+-----------------+\n|toss_decision|   win_percentage|\n+-------------+-----------------+\n|        field|43.39622641509434|\n|          bat|52.38095238095238|\n+-------------+-----------------+\n\n"
     ]
    }
   ],
   "source": [
    "from pyspark.sql.functions import expr\n",
    "\n",
    "toss_decision_analysis = df.groupBy(\"toss_decision\").agg(\n",
    "    (expr(\"sum(case when winner = toss_won then 1 else 0 end) * 100 / count(*)\")).alias(\"win_percentage\")\n",
    ")\n",
    "toss_decision_analysis.show()\n"
   ]
  },
  {
   "cell_type": "markdown",
   "metadata": {
    "application/vnd.databricks.v1+cell": {
     "cellMetadata": {},
     "inputWidgets": {},
     "nuid": "1f36fa79-236a-4efb-b2ec-25f0310dd068",
     "showTitle": false,
     "title": ""
    }
   },
   "source": [
    "MOST MAN OF THE MATCH"
   ]
  },
  {
   "cell_type": "code",
   "execution_count": 0,
   "metadata": {
    "application/vnd.databricks.v1+cell": {
     "cellMetadata": {
      "byteLimit": 2048000,
      "rowLimit": 10000
     },
     "inputWidgets": {},
     "nuid": "0b55e1ba-ed9c-45a5-a3a1-236012f1d59f",
     "showTitle": false,
     "title": ""
    }
   },
   "outputs": [
    {
     "output_type": "stream",
     "name": "stdout",
     "output_type": "stream",
     "text": [
      "+-------------+-----+\n| man_of_match|count|\n+-------------+-----+\n|  YBK Jaiswal|    4|\n| Shubman Gill|    4|\n|   MP Stoinis|    3|\n|    RA Jadeja|    3|\n|    DP Conway|    3|\n|     SA Yadav|    2|\n|     RK Singh|    2|\n|      C Green|    2|\n|     N Pooran|    2|\n|  Rashid Khan|    2|\n|   RD Gaikwad|    2|\n|    MM Sharma|    2|\n|      V Kohli|    2|\n| F du Plessis|    2|\n|     CV Varun|    2|\n|     J Little|    1|\n|     AR Patel|    1|\n|    RG Sharma|    1|\n|       MM Ali|    1|\n|Sikandar Raza|    1|\n+-------------+-----+\nonly showing top 20 rows\n\n"
     ]
    }
   ],
   "source": [
    "man_of_match_count = df.groupBy(\"man_of_match\").count().orderBy(col(\"count\").desc())\n",
    "man_of_match_count.show()\n"
   ]
  },
  {
   "cell_type": "markdown",
   "metadata": {
    "application/vnd.databricks.v1+cell": {
     "cellMetadata": {},
     "inputWidgets": {},
     "nuid": "e7044160-04d9-45a6-8afa-860d5850e82e",
     "showTitle": false,
     "title": ""
    }
   },
   "source": [
    "AVG RUNS SCORED BY WINNING TEAMS"
   ]
  },
  {
   "cell_type": "code",
   "execution_count": 0,
   "metadata": {
    "application/vnd.databricks.v1+cell": {
     "cellMetadata": {
      "byteLimit": 2048000,
      "rowLimit": 10000
     },
     "inputWidgets": {},
     "nuid": "64458824-31cf-48e3-ae64-cd762c902848",
     "showTitle": false,
     "title": ""
    }
   },
   "outputs": [
    {
     "output_type": "stream",
     "name": "stdout",
     "output_type": "stream",
     "text": [
      "Average runs scored by winning team: 30.4\n"
     ]
    }
   ],
   "source": [
    "average_runs = df.groupBy().avg(\"winner_runs\").collect()[0][0]\n",
    "print(\"Average runs scored by winning team:\", average_runs)\n"
   ]
  },
  {
   "cell_type": "markdown",
   "metadata": {
    "application/vnd.databricks.v1+cell": {
     "cellMetadata": {},
     "inputWidgets": {},
     "nuid": "f408f156-3181-4b02-a025-a9ee67711e4a",
     "showTitle": false,
     "title": ""
    }
   },
   "source": [
    "MOST VENUE PLAYED"
   ]
  },
  {
   "cell_type": "code",
   "execution_count": 0,
   "metadata": {
    "application/vnd.databricks.v1+cell": {
     "cellMetadata": {
      "byteLimit": 2048000,
      "rowLimit": 10000
     },
     "inputWidgets": {},
     "nuid": "f80a3087-033e-40af-9145-fab6bbfaaa98",
     "showTitle": false,
     "title": ""
    }
   },
   "outputs": [
    {
     "output_type": "stream",
     "name": "stdout",
     "output_type": "stream",
     "text": [
      "+--------------------+-----+\n|               venue|count|\n+--------------------+-----+\n|Narendra Modi Sta...|    9|\n+--------------------+-----+\nonly showing top 1 row\n\n"
     ]
    }
   ],
   "source": [
    "popular_venues = df.groupBy(\"venue\").count().orderBy(col(\"count\").desc())\n",
    "popular_venues.show(1)\n"
   ]
  },
  {
   "cell_type": "markdown",
   "metadata": {
    "application/vnd.databricks.v1+cell": {
     "cellMetadata": {},
     "inputWidgets": {},
     "nuid": "3a836853-7512-4a2b-8698-e8e51cb7cd36",
     "showTitle": false,
     "title": ""
    }
   },
   "source": [
    "TOTAL MATCHES"
   ]
  },
  {
   "cell_type": "code",
   "execution_count": 0,
   "metadata": {
    "application/vnd.databricks.v1+cell": {
     "cellMetadata": {
      "byteLimit": 2048000,
      "rowLimit": 10000
     },
     "inputWidgets": {},
     "nuid": "7c322a67-b54f-4d1a-b181-3db41f945b5f",
     "showTitle": false,
     "title": ""
    }
   },
   "outputs": [
    {
     "output_type": "stream",
     "name": "stdout",
     "output_type": "stream",
     "text": [
      "+------+-----+\n|season|count|\n+------+-----+\n|  2023|   74|\n+------+-----+\n\n"
     ]
    }
   ],
   "source": [
    "matches_per_season = df.groupBy(\"season\").count().orderBy(\"season\")\n",
    "matches_per_season.show()\n"
   ]
  },
  {
   "cell_type": "markdown",
   "metadata": {
    "application/vnd.databricks.v1+cell": {
     "cellMetadata": {},
     "inputWidgets": {},
     "nuid": "f2eb6758-64d1-4de6-a2f0-40fb2bb4d8f4",
     "showTitle": false,
     "title": ""
    }
   },
   "source": [
    "TOTAL WINS"
   ]
  },
  {
   "cell_type": "code",
   "execution_count": 0,
   "metadata": {
    "application/vnd.databricks.v1+cell": {
     "cellMetadata": {
      "byteLimit": 2048000,
      "rowLimit": 10000
     },
     "inputWidgets": {},
     "nuid": "c751221e-0520-41fe-87be-6e1d54ba00a3",
     "showTitle": false,
     "title": ""
    }
   },
   "outputs": [
    {
     "output_type": "stream",
     "name": "stdout",
     "output_type": "stream",
     "text": [
      "+--------------------+-----+\n|              winner|count|\n+--------------------+-----+\n|      Gujarat Titans|   11|\n| Chennai Super Kings|   10|\n|      Mumbai Indians|    9|\n|Lucknow Super Giants|    8|\n|    Rajasthan Royals|    7|\n|Royal Challengers...|    7|\n|Kolkata Knight Ri...|    6|\n|        Punjab Kings|    6|\n|      Delhi Capitals|    5|\n| Sunrisers Hyderabad|    4|\n|           No Result|    1|\n+--------------------+-----+\n\n"
     ]
    }
   ],
   "source": [
    "team_wins = df.groupBy(\"winner\").count().orderBy(col(\"count\").desc())\n",
    "team_wins.show()"
   ]
  },
  {
   "cell_type": "markdown",
   "metadata": {
    "application/vnd.databricks.v1+cell": {
     "cellMetadata": {},
     "inputWidgets": {},
     "nuid": "bce9b68f-1ba6-4bf3-bf9b-0b32d1393ece",
     "showTitle": false,
     "title": ""
    }
   },
   "source": [
    "SCHEMA OF THE DATA"
   ]
  },
  {
   "cell_type": "code",
   "execution_count": 0,
   "metadata": {
    "application/vnd.databricks.v1+cell": {
     "cellMetadata": {
      "byteLimit": 2048000,
      "rowLimit": 10000
     },
     "inputWidgets": {},
     "nuid": "67752a30-07f2-44f7-a37a-e788caed433d",
     "showTitle": false,
     "title": ""
    }
   },
   "outputs": [
    {
     "output_type": "stream",
     "name": "stdout",
     "output_type": "stream",
     "text": [
      "root\n |-- season: integer (nullable = true)\n |-- date: date (nullable = true)\n |-- match_number: integer (nullable = true)\n |-- match_type: string (nullable = true)\n |-- venue: string (nullable = true)\n |-- location: string (nullable = true)\n |-- team1: string (nullable = true)\n |-- team2: string (nullable = true)\n |-- toss_won: string (nullable = true)\n |-- toss_decision: string (nullable = true)\n |-- umpire1: string (nullable = true)\n |-- umpire2: string (nullable = true)\n |-- reserve_umpire: string (nullable = true)\n |-- match_referee: string (nullable = true)\n |-- winner: string (nullable = true)\n |-- winner_runs: integer (nullable = true)\n |-- winner_wickets: integer (nullable = true)\n |-- man_of_match: string (nullable = true)\n\n"
     ]
    }
   ],
   "source": [
    "# Display schema to identify column names\n",
    "df.printSchema()\n"
   ]
  },
  {
   "cell_type": "markdown",
   "metadata": {
    "application/vnd.databricks.v1+cell": {
     "cellMetadata": {},
     "inputWidgets": {},
     "nuid": "a20a62df-bee1-45ba-ad0a-20a57c3a0054",
     "showTitle": false,
     "title": ""
    }
   },
   "source": [
    "LOADING DATA"
   ]
  },
  {
   "cell_type": "code",
   "execution_count": 0,
   "metadata": {
    "application/vnd.databricks.v1+cell": {
     "cellMetadata": {
      "byteLimit": 2048000,
      "rowLimit": 10000
     },
     "inputWidgets": {},
     "nuid": "c0fd3de9-5f9f-496a-8d9f-82f966ff7b37",
     "showTitle": false,
     "title": ""
    }
   },
   "outputs": [
    {
     "output_type": "display_data",
     "data": {
      "text/html": [
       "<style scoped>\n",
       "  .table-result-container {\n",
       "    max-height: 300px;\n",
       "    overflow: auto;\n",
       "  }\n",
       "  table, th, td {\n",
       "    border: 1px solid black;\n",
       "    border-collapse: collapse;\n",
       "  }\n",
       "  th, td {\n",
       "    padding: 5px;\n",
       "  }\n",
       "  th {\n",
       "    text-align: left;\n",
       "  }\n",
       "</style><div class='table-result-container'><table class='table-result'><thead style='background-color: white'><tr><th>season</th><th>date</th><th>match_number</th><th>match_type</th><th>venue</th><th>location</th><th>team1</th><th>team2</th><th>toss_won</th><th>toss_decision</th><th>umpire1</th><th>umpire2</th><th>reserve_umpire</th><th>match_referee</th><th>winner</th><th>winner_runs</th><th>winner_wickets</th><th>man_of_match</th></tr></thead><tbody><tr><td>2023</td><td>2023-03-31</td><td>1</td><td>Group</td><td>Narendra Modi Stadium</td><td>Ahmedabad</td><td>Chennai Super Kings</td><td>Gujarat Titans</td><td>Gujarat Titans</td><td>field</td><td>Nitin Menon</td><td>HAS Khalid</td><td>A Bengeri</td><td>J Srinath</td><td>Gujarat Titans</td><td>null</td><td>5</td><td>Rashid Khan</td></tr><tr><td>2023</td><td>2023-04-01</td><td>2</td><td>Group</td><td>Punjab Cricket Association IS Bindra Stadium</td><td>Chandigarh</td><td>Punjab Kings</td><td>Kolkata Knight Riders</td><td>Kolkata Knight Riders</td><td>field</td><td>BNJ Oxenford</td><td>YC Barde</td><td>PM Joshi</td><td>M Nayyar</td><td>Punjab Kings</td><td>7</td><td>null</td><td>Arshdeep Singh</td></tr><tr><td>2023</td><td>2023-04-01</td><td>3</td><td>Group</td><td>Bharat Ratna Shri Atal Bihari Vajpayee Ekana Cricket Stadium</td><td>Lucknow</td><td>Lucknow Super Giants</td><td>Delhi Capitals</td><td>Delhi Capitals</td><td>field</td><td>AK Chaudhary</td><td>NA Patwardhan</td><td>M Kuppuraj</td><td>DS Manohar</td><td>Lucknow Super Giants</td><td>50</td><td>null</td><td>MA Wood</td></tr><tr><td>2023</td><td>2023-04-02</td><td>4</td><td>Group</td><td>Rajiv Gandhi International Stadium</td><td>Hyderabad</td><td>Rajasthan Royals</td><td>Sunrisers Hyderabad</td><td>Sunrisers Hyderabad</td><td>field</td><td>KN Ananthapadmanabhan</td><td>R Pandit</td><td>Abhijit Bhattacharya</td><td>V Narayan Kutty</td><td>Rajasthan Royals</td><td>72</td><td>null</td><td>JC Buttler</td></tr><tr><td>2023</td><td>2023-04-02</td><td>5</td><td>Group</td><td>M Chinnaswamy Stadium</td><td>Bengaluru</td><td>Mumbai Indians</td><td>Royal Challengers Bangalore</td><td>Royal Challengers Bangalore</td><td>field</td><td>Nitin Menon</td><td>Tapan Sharma</td><td>A Bengeri</td><td>J Srinath</td><td>Royal Challengers Bangalore</td><td>null</td><td>8</td><td>F du Plessis</td></tr><tr><td>2023</td><td>2023-04-03</td><td>6</td><td>Group</td><td>MA Chidambaram Stadium</td><td>Chennai</td><td>Chennai Super Kings</td><td>Lucknow Super Giants</td><td>Lucknow Super Giants</td><td>field</td><td>A Totre</td><td>BNJ Oxenford</td><td>PM Joshi</td><td>M Nayyar</td><td>Chennai Super Kings</td><td>12</td><td>null</td><td>MM Ali</td></tr><tr><td>2023</td><td>2023-04-04</td><td>7</td><td>Group</td><td>Arun Jaitley Stadium</td><td>Delhi</td><td>Delhi Capitals</td><td>Gujarat Titans</td><td>Gujarat Titans</td><td>field</td><td>A Nand Kishore</td><td>GR Sadashiv Iyer</td><td>M Kuppuraj</td><td>DS Manohar</td><td>Gujarat Titans</td><td>null</td><td>6</td><td>B Sai Sudharsan</td></tr><tr><td>2023</td><td>2023-04-05</td><td>8</td><td>Group</td><td>Barsapara Cricket Stadium</td><td>Guwahati</td><td>Punjab Kings</td><td>Rajasthan Royals</td><td>Rajasthan Royals</td><td>field</td><td>KN Ananthapadmanabhan</td><td>MV Saidharshan Kumar</td><td>Abhijit Bhattacharya</td><td>V Narayan Kutty</td><td>Punjab Kings</td><td>5</td><td>null</td><td>NT Ellis</td></tr><tr><td>2023</td><td>2023-04-06</td><td>9</td><td>Group</td><td>Eden Gardens</td><td>Kolkata</td><td>Kolkata Knight Riders</td><td>Royal Challengers Bangalore</td><td>Royal Challengers Bangalore</td><td>field</td><td>Vinod Seshan</td><td>VK Sharma</td><td>A Bengeri</td><td>Shakti Singh</td><td>Kolkata Knight Riders</td><td>81</td><td>null</td><td>SN Thakur</td></tr><tr><td>2023</td><td>2023-04-07</td><td>10</td><td>Group</td><td>Bharat Ratna Shri Atal Bihari Vajpayee Ekana Cricket Stadium</td><td>Lucknow</td><td>Sunrisers Hyderabad</td><td>Lucknow Super Giants</td><td>Sunrisers Hyderabad</td><td>bat</td><td>J Madanagopal</td><td>YC Barde</td><td>PM Joshi</td><td>M Nayyar</td><td>Lucknow Super Giants</td><td>null</td><td>5</td><td>KH Pandya</td></tr><tr><td>2023</td><td>2023-04-08</td><td>11</td><td>Group</td><td>Barsapara Cricket Stadium</td><td>Guwahati</td><td>Rajasthan Royals</td><td>Delhi Capitals</td><td>Delhi Capitals</td><td>field</td><td>Navdeep Singh</td><td>MV Saidharshan Kumar</td><td>Abhijit Bhattacharya</td><td>V Narayan Kutty</td><td>Rajasthan Royals</td><td>57</td><td>null</td><td>YBK Jaiswal</td></tr><tr><td>2023</td><td>2023-04-08</td><td>12</td><td>Group</td><td>Wankhede Stadium</td><td>Mumbai</td><td>Mumbai Indians</td><td>Chennai Super Kings</td><td>Chennai Super Kings</td><td>field</td><td>CB Gaffaney</td><td>NA Patwardhan</td><td>M Kuppuraj</td><td>DS Manohar</td><td>Chennai Super Kings</td><td>null</td><td>7</td><td>RA Jadeja</td></tr><tr><td>2023</td><td>2023-04-09</td><td>13</td><td>Group</td><td>Narendra Modi Stadium</td><td>Ahmedabad</td><td>Gujarat Titans</td><td>Kolkata Knight Riders</td><td>Gujarat Titans</td><td>bat</td><td>Nitin Menon</td><td>Tapan Sharma</td><td>A Bengeri</td><td>J Srinath</td><td>Kolkata Knight Riders</td><td>null</td><td>3</td><td>RK Singh</td></tr><tr><td>2023</td><td>2023-04-09</td><td>14</td><td>Group</td><td>Rajiv Gandhi International Stadium</td><td>Hyderabad</td><td>Punjab Kings</td><td>Sunrisers Hyderabad</td><td>Sunrisers Hyderabad</td><td>field</td><td>BNJ Oxenford</td><td>UV Gandhe</td><td>PM Joshi</td><td>M Nayyar</td><td>Sunrisers Hyderabad</td><td>null</td><td>8</td><td>S Dhawan</td></tr><tr><td>2023</td><td>2023-04-10</td><td>15</td><td>Group</td><td>M Chinnaswamy Stadium</td><td>Bengaluru</td><td>Royal Challengers Bangalore</td><td>Lucknow Super Giants</td><td>Lucknow Super Giants</td><td>field</td><td>AK Chaudhary</td><td>A Nand Kishore</td><td>M Kuppuraj</td><td>DS Manohar</td><td>Lucknow Super Giants</td><td>null</td><td>1</td><td>N Pooran</td></tr><tr><td>2023</td><td>2023-04-11</td><td>16</td><td>Group</td><td>Arun Jaitley Stadium</td><td>Delhi</td><td>Delhi Capitals</td><td>Mumbai Indians</td><td>Mumbai Indians</td><td>field</td><td>MA Gough</td><td>R Pandit</td><td>Abhijit Bhattacharya</td><td>V Narayan Kutty</td><td>Mumbai Indians</td><td>null</td><td>6</td><td>RG Sharma</td></tr><tr><td>2023</td><td>2023-04-12</td><td>17</td><td>Group</td><td>MA Chidambaram Stadium</td><td>Chennai</td><td>Rajasthan Royals</td><td>Chennai Super Kings</td><td>Chennai Super Kings</td><td>field</td><td>Vinod Seshan</td><td>VK Sharma</td><td>A Bengeri</td><td>J Srinath</td><td>Rajasthan Royals</td><td>3</td><td>null</td><td>R Ashwin</td></tr><tr><td>2023</td><td>2023-04-13</td><td>18</td><td>Group</td><td>Punjab Cricket Association IS Bindra Stadium</td><td>Chandigarh</td><td>Punjab Kings</td><td>Gujarat Titans</td><td>Gujarat Titans</td><td>field</td><td>A Totre</td><td>J Madanagopal</td><td>PM Joshi</td><td>R Seth</td><td>Gujarat Titans</td><td>null</td><td>6</td><td>MM Sharma</td></tr><tr><td>2023</td><td>2023-04-14</td><td>19</td><td>Group</td><td>Eden Gardens</td><td>Kolkata</td><td>Sunrisers Hyderabad</td><td>Kolkata Knight Riders</td><td>Kolkata Knight Riders</td><td>field</td><td>CB Gaffaney</td><td>GR Sadashiv Iyer</td><td>M Kuppuraj</td><td>DS Manohar</td><td>Sunrisers Hyderabad</td><td>23</td><td>null</td><td>HC Brook</td></tr><tr><td>2023</td><td>2023-04-15</td><td>20</td><td>Group</td><td>M Chinnaswamy Stadium</td><td>Bengaluru</td><td>Royal Challengers Bangalore</td><td>Delhi Capitals</td><td>Delhi Capitals</td><td>field</td><td>KN Ananthapadmanabhan</td><td>MV Saidharshan Kumar</td><td>Abhijit Bhattacharya</td><td>Amit Sharma</td><td>Royal Challengers Bangalore</td><td>23</td><td>null</td><td>V Kohli</td></tr><tr><td>2023</td><td>2023-04-15</td><td>21</td><td>Group</td><td>Bharat Ratna Shri Atal Bihari Vajpayee Ekana Cricket Stadium</td><td>Lucknow</td><td>Lucknow Super Giants</td><td>Punjab Kings</td><td>Punjab Kings</td><td>field</td><td>HAS Khalid</td><td>VK Sharma</td><td>A Bengeri</td><td>Shakti Singh</td><td>Punjab Kings</td><td>null</td><td>2</td><td>Sikandar Raza</td></tr><tr><td>2023</td><td>2023-04-16</td><td>22</td><td>Group</td><td>Wankhede Stadium</td><td>Mumbai</td><td>Kolkata Knight Riders</td><td>Mumbai Indians</td><td>Mumbai Indians</td><td>field</td><td>BNJ Oxenford</td><td>UV Gandhe</td><td>PM Joshi</td><td>R Seth</td><td>Mumbai Indians</td><td>null</td><td>5</td><td>VR Iyer</td></tr><tr><td>2023</td><td>2023-04-16</td><td>23</td><td>Group</td><td>Narendra Modi Stadium</td><td>Ahmedabad</td><td>Gujarat Titans</td><td>Rajasthan Royals</td><td>Rajasthan Royals</td><td>field</td><td>AK Chaudhary</td><td>CB Gaffaney</td><td>M Kuppuraj</td><td>Prakash Bhatt</td><td>Rajasthan Royals</td><td>null</td><td>3</td><td>SO Hetmyer</td></tr><tr><td>2023</td><td>2023-04-17</td><td>24</td><td>Group</td><td>M Chinnaswamy Stadium</td><td>Bengaluru</td><td>Chennai Super Kings</td><td>Royal Challengers Bangalore</td><td>Royal Challengers Bangalore</td><td>field</td><td>KN Ananthapadmanabhan</td><td>Navdeep Singh</td><td>Abhijit Bhattacharya</td><td>Amit Sharma</td><td>Chennai Super Kings</td><td>8</td><td>null</td><td>DP Conway</td></tr><tr><td>2023</td><td>2023-04-18</td><td>25</td><td>Group</td><td>Rajiv Gandhi International Stadium</td><td>Hyderabad</td><td>Mumbai Indians</td><td>Sunrisers Hyderabad</td><td>Sunrisers Hyderabad</td><td>field</td><td>Nitin Menon</td><td>Vinod Seshan</td><td>A Bengeri</td><td>Shakti Singh</td><td>Mumbai Indians</td><td>14</td><td>null</td><td>C Green</td></tr><tr><td>2023</td><td>2023-04-19</td><td>26</td><td>Group</td><td>Sawai Mansingh Stadium</td><td>Jaipur</td><td>Lucknow Super Giants</td><td>Rajasthan Royals</td><td>Rajasthan Royals</td><td>field</td><td>J Madanagopal</td><td>YC Barde</td><td>PM Joshi</td><td>R Seth</td><td>Lucknow Super Giants</td><td>10</td><td>null</td><td>MP Stoinis</td></tr><tr><td>2023</td><td>2023-04-20</td><td>27</td><td>Group</td><td>Punjab Cricket Association IS Bindra Stadium</td><td>Chandigarh</td><td>Royal Challengers Bangalore</td><td>Punjab Kings</td><td>Punjab Kings</td><td>field</td><td>AK Chaudhary</td><td>GR Sadashiv Iyer</td><td>M Kuppuraj</td><td>Prakash Bhatt</td><td>Royal Challengers Bangalore</td><td>24</td><td>null</td><td>Mohammed Siraj</td></tr><tr><td>2023</td><td>2023-04-20</td><td>28</td><td>Group</td><td>Arun Jaitley Stadium</td><td>Delhi</td><td>Kolkata Knight Riders</td><td>Delhi Capitals</td><td>Delhi Capitals</td><td>field</td><td>MA Gough</td><td>R Pandit</td><td>Abhijit Bhattacharya</td><td>Amit Sharma</td><td>Delhi Capitals</td><td>null</td><td>4</td><td>I Sharma</td></tr><tr><td>2023</td><td>2023-04-21</td><td>29</td><td>Group</td><td>MA Chidambaram Stadium</td><td>Chennai</td><td>Sunrisers Hyderabad</td><td>Chennai Super Kings</td><td>Chennai Super Kings</td><td>field</td><td>HAS Khalid</td><td>VK Sharma</td><td>A Bengeri</td><td>Shakti Singh</td><td>Chennai Super Kings</td><td>null</td><td>7</td><td>RA Jadeja</td></tr><tr><td>2023</td><td>2023-04-22</td><td>30</td><td>Group</td><td>Bharat Ratna Shri Atal Bihari Vajpayee Ekana Cricket Stadium</td><td>Lucknow</td><td>Gujarat Titans</td><td>Lucknow Super Giants</td><td>Gujarat Titans</td><td>bat</td><td>A Totre</td><td>RJ Tucker</td><td>PM Joshi</td><td>R Seth</td><td>Gujarat Titans</td><td>7</td><td>null</td><td>MM Sharma</td></tr><tr><td>2023</td><td>2023-04-22</td><td>31</td><td>Group</td><td>Wankhede Stadium</td><td>Mumbai</td><td>Punjab Kings</td><td>Mumbai Indians</td><td>Mumbai Indians</td><td>field</td><td>CB Gaffaney</td><td>GR Sadashiv Iyer</td><td>M Kuppuraj</td><td>Prakash Bhatt</td><td>Punjab Kings</td><td>13</td><td>null</td><td>SM Curran</td></tr><tr><td>2023</td><td>2023-04-23</td><td>32</td><td>Group</td><td>M Chinnaswamy Stadium</td><td>Bengaluru</td><td>Royal Challengers Bangalore</td><td>Rajasthan Royals</td><td>Rajasthan Royals</td><td>field</td><td>MA Gough</td><td>MV Saidharshan Kumar</td><td>Abhijit Bhattacharya</td><td>Amit Sharma</td><td>Royal Challengers Bangalore</td><td>7</td><td>null</td><td>GJ Maxwell</td></tr><tr><td>2023</td><td>2023-04-23</td><td>33</td><td>Group</td><td>Eden Gardens</td><td>Kolkata</td><td>Chennai Super Kings</td><td>Kolkata Knight Riders</td><td>Kolkata Knight Riders</td><td>field</td><td>Nitin Menon</td><td>Tapan Sharma</td><td>A Bengeri</td><td>Shakti Singh</td><td>Chennai Super Kings</td><td>49</td><td>null</td><td>AM Rahane</td></tr><tr><td>2023</td><td>2023-04-24</td><td>34</td><td>Group</td><td>Rajiv Gandhi International Stadium</td><td>Hyderabad</td><td>Delhi Capitals</td><td>Sunrisers Hyderabad</td><td>Delhi Capitals</td><td>bat</td><td>J Madanagopal</td><td>RJ Tucker</td><td>PM Joshi</td><td>R Seth</td><td>Delhi Capitals</td><td>7</td><td>null</td><td>AR Patel</td></tr><tr><td>2023</td><td>2023-04-25</td><td>35</td><td>Group</td><td>Narendra Modi Stadium</td><td>Ahmedabad</td><td>Gujarat Titans</td><td>Mumbai Indians</td><td>Mumbai Indians</td><td>field</td><td>AK Chaudhary</td><td>A Nand Kishore</td><td>M Krishnadas</td><td>SA Satbhai</td><td>Gujarat Titans</td><td>55</td><td>null</td><td>A Manohar</td></tr><tr><td>2023</td><td>2023-04-26</td><td>36</td><td>Group</td><td>M Chinnaswamy Stadium</td><td>Bengaluru</td><td>Kolkata Knight Riders</td><td>Royal Challengers Bangalore</td><td>Royal Challengers Bangalore</td><td>field</td><td>KN Ananthapadmanabhan</td><td>R Pandit</td><td>Abhijit Bhattacharya</td><td>Amit Sharma</td><td>Kolkata Knight Riders</td><td>21</td><td>null</td><td>CV Varun</td></tr><tr><td>2023</td><td>2023-04-27</td><td>37</td><td>Group</td><td>Sawai Mansingh Stadium</td><td>Jaipur</td><td>Rajasthan Royals</td><td>Chennai Super Kings</td><td>Rajasthan Royals</td><td>bat</td><td>A Totre</td><td>YC Barde</td><td>Mohamad Rafi</td><td>M Nayyar</td><td>Rajasthan Royals</td><td>32</td><td>null</td><td>YBK Jaiswal</td></tr><tr><td>2023</td><td>2023-04-28</td><td>38</td><td>Group</td><td>Punjab Cricket Association IS Bindra Stadium</td><td>Chandigarh</td><td>Lucknow Super Giants</td><td>Punjab Kings</td><td>Punjab Kings</td><td>field</td><td>Nitin Menon</td><td>Vinod Seshan</td><td>VM Dhokre</td><td>Shakti Singh</td><td>Lucknow Super Giants</td><td>56</td><td>null</td><td>MP Stoinis</td></tr><tr><td>2023</td><td>2023-04-29</td><td>39</td><td>Group</td><td>Eden Gardens</td><td>Kolkata</td><td>Kolkata Knight Riders</td><td>Gujarat Titans</td><td>Gujarat Titans</td><td>field</td><td>NA Patwardhan</td><td>GR Sadashiv Iyer</td><td>M Krishnadas</td><td>SA Satbhai</td><td>Gujarat Titans</td><td>null</td><td>7</td><td>J Little</td></tr><tr><td>2023</td><td>2023-04-29</td><td>40</td><td>Group</td><td>Arun Jaitley Stadium</td><td>Delhi</td><td>Sunrisers Hyderabad</td><td>Delhi Capitals</td><td>Sunrisers Hyderabad</td><td>bat</td><td>MA Gough</td><td>Navdeep Singh</td><td>P Joshi</td><td>V Narayan Kutty</td><td>Sunrisers Hyderabad</td><td>9</td><td>null</td><td>MR Marsh</td></tr><tr><td>2023</td><td>2023-04-30</td><td>41</td><td>Group</td><td>MA Chidambaram Stadium</td><td>Chennai</td><td>Chennai Super Kings</td><td>Punjab Kings</td><td>Chennai Super Kings</td><td>bat</td><td>RJ Tucker</td><td>UV Gandhe</td><td>Mohamad Rafi</td><td>M Nayyar</td><td>Punjab Kings</td><td>null</td><td>4</td><td>DP Conway</td></tr><tr><td>2023</td><td>2023-04-30</td><td>42</td><td>Group</td><td>Wankhede Stadium</td><td>Mumbai</td><td>Rajasthan Royals</td><td>Mumbai Indians</td><td>Rajasthan Royals</td><td>bat</td><td>Vinod Seshan</td><td>VK Sharma</td><td>VM Dhokre</td><td>J Srinath</td><td>Mumbai Indians</td><td>null</td><td>6</td><td>YBK Jaiswal</td></tr><tr><td>2023</td><td>2023-05-01</td><td>43</td><td>Group</td><td>Bharat Ratna Shri Atal Bihari Vajpayee Ekana Cricket Stadium</td><td>Lucknow</td><td>Royal Challengers Bangalore</td><td>Lucknow Super Giants</td><td>Royal Challengers Bangalore</td><td>bat</td><td>AK Chaudhary</td><td>GR Sadashiv Iyer</td><td>M Krishnadas</td><td>Prakash Bhatt</td><td>Royal Challengers Bangalore</td><td>18</td><td>null</td><td>F du Plessis</td></tr><tr><td>2023</td><td>2023-05-02</td><td>44</td><td>Group</td><td>Narendra Modi Stadium</td><td>Ahmedabad</td><td>Delhi Capitals</td><td>Gujarat Titans</td><td>Delhi Capitals</td><td>bat</td><td>MA Gough</td><td>R Pandit</td><td>P Joshi</td><td>V Narayan Kutty</td><td>Delhi Capitals</td><td>5</td><td>null</td><td>Mohammed Shami</td></tr><tr><td>2023</td><td>2023-05-03</td><td>45</td><td>Group</td><td>Bharat Ratna Shri Atal Bihari Vajpayee Ekana Cricket Stadium</td><td>Lucknow</td><td>Lucknow Super Giants</td><td>Chennai Super Kings</td><td>Chennai Super Kings</td><td>field</td><td>AK Chaudhary</td><td>NA Patwardhan</td><td>M Krishnadas</td><td>Prakash Bhatt</td><td>No Result</td><td>null</td><td>null</td><td>null</td></tr><tr><td>2023</td><td>2023-05-03</td><td>46</td><td>Group</td><td>Punjab Cricket Association IS Bindra Stadium</td><td>Chandigarh</td><td>Punjab Kings</td><td>Mumbai Indians</td><td>Mumbai Indians</td><td>field</td><td>J Madanagopal</td><td>RJ Tucker</td><td>Mohamad Rafi</td><td>SS Raul</td><td>Mumbai Indians</td><td>null</td><td>6</td><td>Ishan Kishan</td></tr><tr><td>2023</td><td>2023-05-04</td><td>47</td><td>Group</td><td>Rajiv Gandhi International Stadium</td><td>Hyderabad</td><td>Kolkata Knight Riders</td><td>Sunrisers Hyderabad</td><td>Kolkata Knight Riders</td><td>bat</td><td>KN Ananthapadmanabhan</td><td>MA Gough</td><td>P Joshi</td><td>V Narayan Kutty</td><td>Kolkata Knight Riders</td><td>5</td><td>null</td><td>CV Varun</td></tr><tr><td>2023</td><td>2023-05-05</td><td>48</td><td>Group</td><td>Sawai Mansingh Stadium</td><td>Jaipur</td><td>Rajasthan Royals</td><td>Gujarat Titans</td><td>Rajasthan Royals</td><td>bat</td><td>HAS Khalid</td><td>VK Sharma</td><td>VM Dhokre</td><td>J Srinath</td><td>Gujarat Titans</td><td>null</td><td>9</td><td>Rashid Khan</td></tr><tr><td>2023</td><td>2023-05-06</td><td>49</td><td>Group</td><td>MA Chidambaram Stadium</td><td>Chennai</td><td>Mumbai Indians</td><td>Chennai Super Kings</td><td>Chennai Super Kings</td><td>field</td><td>BNJ Oxenford</td><td>Navdeep Singh</td><td>P Joshi</td><td>V Narayan Kutty</td><td>Chennai Super Kings</td><td>null</td><td>6</td><td>M Pathirana</td></tr><tr><td>2023</td><td>2023-05-06</td><td>50</td><td>Group</td><td>Arun Jaitley Stadium</td><td>Delhi</td><td>Royal Challengers Bangalore</td><td>Delhi Capitals</td><td>Royal Challengers Bangalore</td><td>bat</td><td>RJ Tucker</td><td>YC Barde</td><td>Mohamad Rafi</td><td>M Nayyar</td><td>Delhi Capitals</td><td>null</td><td>7</td><td>PD Salt</td></tr><tr><td>2023</td><td>2023-05-07</td><td>51</td><td>Group</td><td>Narendra Modi Stadium</td><td>Ahmedabad</td><td>Gujarat Titans</td><td>Lucknow Super Giants</td><td>Lucknow Super Giants</td><td>field</td><td>AK Chaudhary</td><td>A Nand Kishore</td><td>M Krishnadas</td><td>Prakash Bhatt</td><td>Gujarat Titans</td><td>56</td><td>null</td><td>Shubman Gill</td></tr><tr><td>2023</td><td>2023-05-07</td><td>52</td><td>Group</td><td>Sawai Mansingh Stadium</td><td>Jaipur</td><td>Rajasthan Royals</td><td>Sunrisers Hyderabad</td><td>Rajasthan Royals</td><td>bat</td><td>Nitin Menon</td><td>Vinod Seshan</td><td>VM Dhokre</td><td>J Srinath</td><td>Sunrisers Hyderabad</td><td>null</td><td>4</td><td>GD Phillips</td></tr><tr><td>2023</td><td>2023-05-08</td><td>53</td><td>Group</td><td>Eden Gardens</td><td>Kolkata</td><td>Punjab Kings</td><td>Kolkata Knight Riders</td><td>Punjab Kings</td><td>bat</td><td>A Totre</td><td>J Madanagopal</td><td>Mohamad Rafi</td><td>SS Raul</td><td>Kolkata Knight Riders</td><td>null</td><td>5</td><td>AD Russell</td></tr><tr><td>2023</td><td>2023-05-09</td><td>54</td><td>Group</td><td>Wankhede Stadium</td><td>Mumbai</td><td>Royal Challengers Bangalore</td><td>Mumbai Indians</td><td>Mumbai Indians</td><td>field</td><td>HAS Khalid</td><td>VK Sharma</td><td>VM Dhokre</td><td>RS Sodhi</td><td>Mumbai Indians</td><td>null</td><td>6</td><td>SA Yadav</td></tr><tr><td>2023</td><td>2023-05-10</td><td>55</td><td>Group</td><td>MA Chidambaram Stadium</td><td>Chennai</td><td>Chennai Super Kings</td><td>Delhi Capitals</td><td>Chennai Super Kings</td><td>bat</td><td>CB Gaffaney</td><td>NA Patwardhan</td><td>M Krishnadas</td><td>Sanjay Verma</td><td>Chennai Super Kings</td><td>27</td><td>null</td><td>RA Jadeja</td></tr><tr><td>2023</td><td>2023-05-11</td><td>56</td><td>Group</td><td>Eden Gardens</td><td>Kolkata</td><td>Kolkata Knight Riders</td><td>Rajasthan Royals</td><td>Rajasthan Royals</td><td>field</td><td>RJ Tucker</td><td>MV Saidharshan Kumar</td><td>P Joshi</td><td>P Dharmani</td><td>Rajasthan Royals</td><td>null</td><td>9</td><td>YBK Jaiswal</td></tr><tr><td>2023</td><td>2023-05-12</td><td>57</td><td>Group</td><td>Wankhede Stadium</td><td>Mumbai</td><td>Mumbai Indians</td><td>Gujarat Titans</td><td>Gujarat Titans</td><td>field</td><td>Nitin Menon</td><td>Tapan Sharma</td><td>VM Dhokre</td><td>RS Sodhi</td><td>Mumbai Indians</td><td>27</td><td>null</td><td>SA Yadav</td></tr><tr><td>2023</td><td>2023-05-13</td><td>58</td><td>Group</td><td>Rajiv Gandhi International Stadium</td><td>Hyderabad</td><td>Sunrisers Hyderabad</td><td>Lucknow Super Giants</td><td>Sunrisers Hyderabad</td><td>bat</td><td>A Totre</td><td>J Madanagopal</td><td>Mohamad Rafi</td><td>P Dharmani</td><td>Lucknow Super Giants</td><td>null</td><td>7</td><td>PN Mankad</td></tr><tr><td>2023</td><td>2023-05-13</td><td>59</td><td>Group</td><td>Arun Jaitley Stadium</td><td>Delhi</td><td>Punjab Kings</td><td>Delhi Capitals</td><td>Delhi Capitals</td><td>field</td><td>CB Gaffaney</td><td>NA Patwardhan</td><td>M Krishnadas</td><td>Sanjay Verma</td><td>Punjab Kings</td><td>31</td><td>null</td><td>P Simran Singh</td></tr><tr><td>2023</td><td>2023-05-14</td><td>60</td><td>Group</td><td>Sawai Mansingh Stadium</td><td>Jaipur</td><td>Royal Challengers Bangalore</td><td>Rajasthan Royals</td><td>Royal Challengers Bangalore</td><td>bat</td><td>KN Ananthapadmanabhan</td><td>Navdeep Singh</td><td>P Joshi</td><td>V Narayan Kutty</td><td>Royal Challengers Bangalore</td><td>112</td><td>null</td><td>WD Parnell</td></tr><tr><td>2023</td><td>2023-05-14</td><td>61</td><td>Group</td><td>MA Chidambaram Stadium</td><td>Chennai</td><td>Chennai Super Kings</td><td>Kolkata Knight Riders</td><td>Chennai Super Kings</td><td>bat</td><td>Tapan Sharma</td><td>Vinod Seshan</td><td>VM Dhokre</td><td>J Srinath</td><td>Kolkata Knight Riders</td><td>null</td><td>6</td><td>RK Singh</td></tr><tr><td>2023</td><td>2023-05-15</td><td>62</td><td>Group</td><td>Narendra Modi Stadium</td><td>Ahmedabad</td><td>Gujarat Titans</td><td>Sunrisers Hyderabad</td><td>Sunrisers Hyderabad</td><td>field</td><td>J Madanagopal</td><td>UV Gandhe</td><td>Mohamad Rafi</td><td>M Nayyar</td><td>Gujarat Titans</td><td>34</td><td>null</td><td>Shubman Gill</td></tr><tr><td>2023</td><td>2023-05-16</td><td>63</td><td>Group</td><td>Bharat Ratna Shri Atal Bihari Vajpayee Ekana Cricket Stadium</td><td>Lucknow</td><td>Lucknow Super Giants</td><td>Mumbai Indians</td><td>Mumbai Indians</td><td>field</td><td>AK Chaudhary</td><td>A Nand Kishore</td><td>M Krishnadas</td><td>Sanjay Verma</td><td>Lucknow Super Giants</td><td>5</td><td>null</td><td>MP Stoinis</td></tr><tr><td>2023</td><td>2023-05-17</td><td>64</td><td>Group</td><td>Himachal Pradesh Cricket Association Stadium</td><td>Dharamsala</td><td>Delhi Capitals</td><td>Punjab Kings</td><td>Punjab Kings</td><td>field</td><td>KN Ananthapadmanabhan</td><td>MV Saidharshan Kumar</td><td>P Joshi</td><td>P Dharmani</td><td>Delhi Capitals</td><td>15</td><td>null</td><td>RR Rossouw</td></tr><tr><td>2023</td><td>2023-05-18</td><td>65</td><td>Group</td><td>Rajiv Gandhi International Stadium</td><td>Hyderabad</td><td>Sunrisers Hyderabad</td><td>Royal Challengers Bangalore</td><td>Royal Challengers Bangalore</td><td>field</td><td>BNJ Oxenford</td><td>VK Sharma</td><td>VM Dhokre</td><td>J Srinath</td><td>Royal Challengers Bangalore</td><td>null</td><td>8</td><td>V Kohli</td></tr><tr><td>2023</td><td>2023-05-19</td><td>66</td><td>Group</td><td>Himachal Pradesh Cricket Association Stadium</td><td>Dharamsala</td><td>Punjab Kings</td><td>Rajasthan Royals</td><td>Rajasthan Royals</td><td>field</td><td>A Nand Kishore</td><td>RJ Tucker</td><td>P Joshi</td><td>P Dharmani</td><td>Rajasthan Royals</td><td>null</td><td>4</td><td>D Padikkal</td></tr><tr><td>2023</td><td>2023-05-20</td><td>67</td><td>Group</td><td>Arun Jaitley Stadium</td><td>Delhi</td><td>Chennai Super Kings</td><td>Delhi Capitals</td><td>Chennai Super Kings</td><td>bat</td><td>CB Gaffaney</td><td>NA Patwardhan</td><td>M Krishnadas</td><td>Sanjay Verma</td><td>Chennai Super Kings</td><td>77</td><td>null</td><td>RD Gaikwad</td></tr><tr><td>2023</td><td>2023-05-20</td><td>68</td><td>Group</td><td>Eden Gardens</td><td>Kolkata</td><td>Lucknow Super Giants</td><td>Kolkata Knight Riders</td><td>Kolkata Knight Riders</td><td>field</td><td>J Madanagopal</td><td>UV Gandhe</td><td>Mohamad Rafi</td><td>M Nayyar</td><td>Lucknow Super Giants</td><td>1</td><td>null</td><td>N Pooran</td></tr><tr><td>2023</td><td>2023-05-21</td><td>69</td><td>Group</td><td>Wankhede Stadium</td><td>Mumbai</td><td>Sunrisers Hyderabad</td><td>Mumbai Indians</td><td>Mumbai Indians</td><td>field</td><td>KN Ananthapadmanabhan</td><td>RJ Tucker</td><td>P Joshi</td><td>P Dharmani</td><td>Mumbai Indians</td><td>null</td><td>8</td><td>C Green</td></tr><tr><td>2023</td><td>2023-05-21</td><td>70</td><td>Group</td><td>M Chinnaswamy Stadium</td><td>Bengaluru</td><td>Royal Challengers Bangalore</td><td>Gujarat Titans</td><td>Gujarat Titans</td><td>field</td><td>Nitin Menon</td><td>VK Sharma</td><td>VM Dhokre</td><td>J Srinath</td><td>Gujarat Titans</td><td>null</td><td>6</td><td>Shubman Gill</td></tr><tr><td>2023</td><td>2023-05-23</td><td>71</td><td>Qualifier</td><td>MA Chidambaram Stadium</td><td>Chennai</td><td>Chennai Super Kings</td><td>Gujarat Titans</td><td>Gujarat Titans</td><td>field</td><td>AK Chaudhary</td><td>CB Gaffaney</td><td>VK Sharma</td><td>M Nayyar</td><td>Chennai Super Kings</td><td>15</td><td>null</td><td>RD Gaikwad</td></tr><tr><td>2023</td><td>2023-05-24</td><td>72</td><td>Eliminator</td><td>MA Chidambaram Stadium</td><td>Chennai</td><td>Mumbai Indians</td><td>Lucknow Super Giants</td><td>Mumbai Indians</td><td>bat</td><td>BNJ Oxenford</td><td>VK Sharma</td><td>AK Chaudhary</td><td>V Narayan Kutty</td><td>Mumbai Indians</td><td>81</td><td>null</td><td>Akash Madhwal</td></tr><tr><td>2023</td><td>2023-05-26</td><td>73</td><td>Qualifier</td><td>Narendra Modi Stadium</td><td>Ahmedabad</td><td>Gujarat Titans</td><td>Mumbai Indians</td><td>Mumbai Indians</td><td>field</td><td>Nitin Menon</td><td>RJ Tucker</td><td>KN Ananthapadmanabhan</td><td>J Srinath</td><td>Gujarat Titans</td><td>62</td><td>null</td><td>Shubman Gill</td></tr><tr><td>2023</td><td>2023-05-29</td><td>74</td><td>Final</td><td>Narendra Modi Stadium</td><td>Ahmedabad</td><td>Chennai Super Kings</td><td>Gujarat Titans</td><td>Chennai Super Kings</td><td>field</td><td>Nitin Menon</td><td>RJ Tucker</td><td>J Madanagopal</td><td>J Srinath</td><td>Chennai Super Kings</td><td>null</td><td>5</td><td>DP Conway</td></tr></tbody></table></div>"
      ]
     },
     "metadata": {
      "application/vnd.databricks.v1+output": {
       "addedWidgets": {},
       "aggData": [],
       "aggError": "",
       "aggOverflow": false,
       "aggSchema": [],
       "aggSeriesLimitReached": false,
       "aggType": "",
       "arguments": {},
       "columnCustomDisplayInfos": {},
       "data": [
        [
         2023,
         "2023-03-31",
         1,
         "Group",
         "Narendra Modi Stadium",
         "Ahmedabad",
         "Chennai Super Kings",
         "Gujarat Titans",
         "Gujarat Titans",
         "field",
         "Nitin Menon",
         "HAS Khalid",
         "A Bengeri",
         "J Srinath",
         "Gujarat Titans",
         null,
         5,
         "Rashid Khan"
        ],
        [
         2023,
         "2023-04-01",
         2,
         "Group",
         "Punjab Cricket Association IS Bindra Stadium",
         "Chandigarh",
         "Punjab Kings",
         "Kolkata Knight Riders",
         "Kolkata Knight Riders",
         "field",
         "BNJ Oxenford",
         "YC Barde",
         "PM Joshi",
         "M Nayyar",
         "Punjab Kings",
         7,
         null,
         "Arshdeep Singh"
        ],
        [
         2023,
         "2023-04-01",
         3,
         "Group",
         "Bharat Ratna Shri Atal Bihari Vajpayee Ekana Cricket Stadium",
         "Lucknow",
         "Lucknow Super Giants",
         "Delhi Capitals",
         "Delhi Capitals",
         "field",
         "AK Chaudhary",
         "NA Patwardhan",
         "M Kuppuraj",
         "DS Manohar",
         "Lucknow Super Giants",
         50,
         null,
         "MA Wood"
        ],
        [
         2023,
         "2023-04-02",
         4,
         "Group",
         "Rajiv Gandhi International Stadium",
         "Hyderabad",
         "Rajasthan Royals",
         "Sunrisers Hyderabad",
         "Sunrisers Hyderabad",
         "field",
         "KN Ananthapadmanabhan",
         "R Pandit",
         "Abhijit Bhattacharya",
         "V Narayan Kutty",
         "Rajasthan Royals",
         72,
         null,
         "JC Buttler"
        ],
        [
         2023,
         "2023-04-02",
         5,
         "Group",
         "M Chinnaswamy Stadium",
         "Bengaluru",
         "Mumbai Indians",
         "Royal Challengers Bangalore",
         "Royal Challengers Bangalore",
         "field",
         "Nitin Menon",
         "Tapan Sharma",
         "A Bengeri",
         "J Srinath",
         "Royal Challengers Bangalore",
         null,
         8,
         "F du Plessis"
        ],
        [
         2023,
         "2023-04-03",
         6,
         "Group",
         "MA Chidambaram Stadium",
         "Chennai",
         "Chennai Super Kings",
         "Lucknow Super Giants",
         "Lucknow Super Giants",
         "field",
         "A Totre",
         "BNJ Oxenford",
         "PM Joshi",
         "M Nayyar",
         "Chennai Super Kings",
         12,
         null,
         "MM Ali"
        ],
        [
         2023,
         "2023-04-04",
         7,
         "Group",
         "Arun Jaitley Stadium",
         "Delhi",
         "Delhi Capitals",
         "Gujarat Titans",
         "Gujarat Titans",
         "field",
         "A Nand Kishore",
         "GR Sadashiv Iyer",
         "M Kuppuraj",
         "DS Manohar",
         "Gujarat Titans",
         null,
         6,
         "B Sai Sudharsan"
        ],
        [
         2023,
         "2023-04-05",
         8,
         "Group",
         "Barsapara Cricket Stadium",
         "Guwahati",
         "Punjab Kings",
         "Rajasthan Royals",
         "Rajasthan Royals",
         "field",
         "KN Ananthapadmanabhan",
         "MV Saidharshan Kumar",
         "Abhijit Bhattacharya",
         "V Narayan Kutty",
         "Punjab Kings",
         5,
         null,
         "NT Ellis"
        ],
        [
         2023,
         "2023-04-06",
         9,
         "Group",
         "Eden Gardens",
         "Kolkata",
         "Kolkata Knight Riders",
         "Royal Challengers Bangalore",
         "Royal Challengers Bangalore",
         "field",
         "Vinod Seshan",
         "VK Sharma",
         "A Bengeri",
         "Shakti Singh",
         "Kolkata Knight Riders",
         81,
         null,
         "SN Thakur"
        ],
        [
         2023,
         "2023-04-07",
         10,
         "Group",
         "Bharat Ratna Shri Atal Bihari Vajpayee Ekana Cricket Stadium",
         "Lucknow",
         "Sunrisers Hyderabad",
         "Lucknow Super Giants",
         "Sunrisers Hyderabad",
         "bat",
         "J Madanagopal",
         "YC Barde",
         "PM Joshi",
         "M Nayyar",
         "Lucknow Super Giants",
         null,
         5,
         "KH Pandya"
        ],
        [
         2023,
         "2023-04-08",
         11,
         "Group",
         "Barsapara Cricket Stadium",
         "Guwahati",
         "Rajasthan Royals",
         "Delhi Capitals",
         "Delhi Capitals",
         "field",
         "Navdeep Singh",
         "MV Saidharshan Kumar",
         "Abhijit Bhattacharya",
         "V Narayan Kutty",
         "Rajasthan Royals",
         57,
         null,
         "YBK Jaiswal"
        ],
        [
         2023,
         "2023-04-08",
         12,
         "Group",
         "Wankhede Stadium",
         "Mumbai",
         "Mumbai Indians",
         "Chennai Super Kings",
         "Chennai Super Kings",
         "field",
         "CB Gaffaney",
         "NA Patwardhan",
         "M Kuppuraj",
         "DS Manohar",
         "Chennai Super Kings",
         null,
         7,
         "RA Jadeja"
        ],
        [
         2023,
         "2023-04-09",
         13,
         "Group",
         "Narendra Modi Stadium",
         "Ahmedabad",
         "Gujarat Titans",
         "Kolkata Knight Riders",
         "Gujarat Titans",
         "bat",
         "Nitin Menon",
         "Tapan Sharma",
         "A Bengeri",
         "J Srinath",
         "Kolkata Knight Riders",
         null,
         3,
         "RK Singh"
        ],
        [
         2023,
         "2023-04-09",
         14,
         "Group",
         "Rajiv Gandhi International Stadium",
         "Hyderabad",
         "Punjab Kings",
         "Sunrisers Hyderabad",
         "Sunrisers Hyderabad",
         "field",
         "BNJ Oxenford",
         "UV Gandhe",
         "PM Joshi",
         "M Nayyar",
         "Sunrisers Hyderabad",
         null,
         8,
         "S Dhawan"
        ],
        [
         2023,
         "2023-04-10",
         15,
         "Group",
         "M Chinnaswamy Stadium",
         "Bengaluru",
         "Royal Challengers Bangalore",
         "Lucknow Super Giants",
         "Lucknow Super Giants",
         "field",
         "AK Chaudhary",
         "A Nand Kishore",
         "M Kuppuraj",
         "DS Manohar",
         "Lucknow Super Giants",
         null,
         1,
         "N Pooran"
        ],
        [
         2023,
         "2023-04-11",
         16,
         "Group",
         "Arun Jaitley Stadium",
         "Delhi",
         "Delhi Capitals",
         "Mumbai Indians",
         "Mumbai Indians",
         "field",
         "MA Gough",
         "R Pandit",
         "Abhijit Bhattacharya",
         "V Narayan Kutty",
         "Mumbai Indians",
         null,
         6,
         "RG Sharma"
        ],
        [
         2023,
         "2023-04-12",
         17,
         "Group",
         "MA Chidambaram Stadium",
         "Chennai",
         "Rajasthan Royals",
         "Chennai Super Kings",
         "Chennai Super Kings",
         "field",
         "Vinod Seshan",
         "VK Sharma",
         "A Bengeri",
         "J Srinath",
         "Rajasthan Royals",
         3,
         null,
         "R Ashwin"
        ],
        [
         2023,
         "2023-04-13",
         18,
         "Group",
         "Punjab Cricket Association IS Bindra Stadium",
         "Chandigarh",
         "Punjab Kings",
         "Gujarat Titans",
         "Gujarat Titans",
         "field",
         "A Totre",
         "J Madanagopal",
         "PM Joshi",
         "R Seth",
         "Gujarat Titans",
         null,
         6,
         "MM Sharma"
        ],
        [
         2023,
         "2023-04-14",
         19,
         "Group",
         "Eden Gardens",
         "Kolkata",
         "Sunrisers Hyderabad",
         "Kolkata Knight Riders",
         "Kolkata Knight Riders",
         "field",
         "CB Gaffaney",
         "GR Sadashiv Iyer",
         "M Kuppuraj",
         "DS Manohar",
         "Sunrisers Hyderabad",
         23,
         null,
         "HC Brook"
        ],
        [
         2023,
         "2023-04-15",
         20,
         "Group",
         "M Chinnaswamy Stadium",
         "Bengaluru",
         "Royal Challengers Bangalore",
         "Delhi Capitals",
         "Delhi Capitals",
         "field",
         "KN Ananthapadmanabhan",
         "MV Saidharshan Kumar",
         "Abhijit Bhattacharya",
         "Amit Sharma",
         "Royal Challengers Bangalore",
         23,
         null,
         "V Kohli"
        ],
        [
         2023,
         "2023-04-15",
         21,
         "Group",
         "Bharat Ratna Shri Atal Bihari Vajpayee Ekana Cricket Stadium",
         "Lucknow",
         "Lucknow Super Giants",
         "Punjab Kings",
         "Punjab Kings",
         "field",
         "HAS Khalid",
         "VK Sharma",
         "A Bengeri",
         "Shakti Singh",
         "Punjab Kings",
         null,
         2,
         "Sikandar Raza"
        ],
        [
         2023,
         "2023-04-16",
         22,
         "Group",
         "Wankhede Stadium",
         "Mumbai",
         "Kolkata Knight Riders",
         "Mumbai Indians",
         "Mumbai Indians",
         "field",
         "BNJ Oxenford",
         "UV Gandhe",
         "PM Joshi",
         "R Seth",
         "Mumbai Indians",
         null,
         5,
         "VR Iyer"
        ],
        [
         2023,
         "2023-04-16",
         23,
         "Group",
         "Narendra Modi Stadium",
         "Ahmedabad",
         "Gujarat Titans",
         "Rajasthan Royals",
         "Rajasthan Royals",
         "field",
         "AK Chaudhary",
         "CB Gaffaney",
         "M Kuppuraj",
         "Prakash Bhatt",
         "Rajasthan Royals",
         null,
         3,
         "SO Hetmyer"
        ],
        [
         2023,
         "2023-04-17",
         24,
         "Group",
         "M Chinnaswamy Stadium",
         "Bengaluru",
         "Chennai Super Kings",
         "Royal Challengers Bangalore",
         "Royal Challengers Bangalore",
         "field",
         "KN Ananthapadmanabhan",
         "Navdeep Singh",
         "Abhijit Bhattacharya",
         "Amit Sharma",
         "Chennai Super Kings",
         8,
         null,
         "DP Conway"
        ],
        [
         2023,
         "2023-04-18",
         25,
         "Group",
         "Rajiv Gandhi International Stadium",
         "Hyderabad",
         "Mumbai Indians",
         "Sunrisers Hyderabad",
         "Sunrisers Hyderabad",
         "field",
         "Nitin Menon",
         "Vinod Seshan",
         "A Bengeri",
         "Shakti Singh",
         "Mumbai Indians",
         14,
         null,
         "C Green"
        ],
        [
         2023,
         "2023-04-19",
         26,
         "Group",
         "Sawai Mansingh Stadium",
         "Jaipur",
         "Lucknow Super Giants",
         "Rajasthan Royals",
         "Rajasthan Royals",
         "field",
         "J Madanagopal",
         "YC Barde",
         "PM Joshi",
         "R Seth",
         "Lucknow Super Giants",
         10,
         null,
         "MP Stoinis"
        ],
        [
         2023,
         "2023-04-20",
         27,
         "Group",
         "Punjab Cricket Association IS Bindra Stadium",
         "Chandigarh",
         "Royal Challengers Bangalore",
         "Punjab Kings",
         "Punjab Kings",
         "field",
         "AK Chaudhary",
         "GR Sadashiv Iyer",
         "M Kuppuraj",
         "Prakash Bhatt",
         "Royal Challengers Bangalore",
         24,
         null,
         "Mohammed Siraj"
        ],
        [
         2023,
         "2023-04-20",
         28,
         "Group",
         "Arun Jaitley Stadium",
         "Delhi",
         "Kolkata Knight Riders",
         "Delhi Capitals",
         "Delhi Capitals",
         "field",
         "MA Gough",
         "R Pandit",
         "Abhijit Bhattacharya",
         "Amit Sharma",
         "Delhi Capitals",
         null,
         4,
         "I Sharma"
        ],
        [
         2023,
         "2023-04-21",
         29,
         "Group",
         "MA Chidambaram Stadium",
         "Chennai",
         "Sunrisers Hyderabad",
         "Chennai Super Kings",
         "Chennai Super Kings",
         "field",
         "HAS Khalid",
         "VK Sharma",
         "A Bengeri",
         "Shakti Singh",
         "Chennai Super Kings",
         null,
         7,
         "RA Jadeja"
        ],
        [
         2023,
         "2023-04-22",
         30,
         "Group",
         "Bharat Ratna Shri Atal Bihari Vajpayee Ekana Cricket Stadium",
         "Lucknow",
         "Gujarat Titans",
         "Lucknow Super Giants",
         "Gujarat Titans",
         "bat",
         "A Totre",
         "RJ Tucker",
         "PM Joshi",
         "R Seth",
         "Gujarat Titans",
         7,
         null,
         "MM Sharma"
        ],
        [
         2023,
         "2023-04-22",
         31,
         "Group",
         "Wankhede Stadium",
         "Mumbai",
         "Punjab Kings",
         "Mumbai Indians",
         "Mumbai Indians",
         "field",
         "CB Gaffaney",
         "GR Sadashiv Iyer",
         "M Kuppuraj",
         "Prakash Bhatt",
         "Punjab Kings",
         13,
         null,
         "SM Curran"
        ],
        [
         2023,
         "2023-04-23",
         32,
         "Group",
         "M Chinnaswamy Stadium",
         "Bengaluru",
         "Royal Challengers Bangalore",
         "Rajasthan Royals",
         "Rajasthan Royals",
         "field",
         "MA Gough",
         "MV Saidharshan Kumar",
         "Abhijit Bhattacharya",
         "Amit Sharma",
         "Royal Challengers Bangalore",
         7,
         null,
         "GJ Maxwell"
        ],
        [
         2023,
         "2023-04-23",
         33,
         "Group",
         "Eden Gardens",
         "Kolkata",
         "Chennai Super Kings",
         "Kolkata Knight Riders",
         "Kolkata Knight Riders",
         "field",
         "Nitin Menon",
         "Tapan Sharma",
         "A Bengeri",
         "Shakti Singh",
         "Chennai Super Kings",
         49,
         null,
         "AM Rahane"
        ],
        [
         2023,
         "2023-04-24",
         34,
         "Group",
         "Rajiv Gandhi International Stadium",
         "Hyderabad",
         "Delhi Capitals",
         "Sunrisers Hyderabad",
         "Delhi Capitals",
         "bat",
         "J Madanagopal",
         "RJ Tucker",
         "PM Joshi",
         "R Seth",
         "Delhi Capitals",
         7,
         null,
         "AR Patel"
        ],
        [
         2023,
         "2023-04-25",
         35,
         "Group",
         "Narendra Modi Stadium",
         "Ahmedabad",
         "Gujarat Titans",
         "Mumbai Indians",
         "Mumbai Indians",
         "field",
         "AK Chaudhary",
         "A Nand Kishore",
         "M Krishnadas",
         "SA Satbhai",
         "Gujarat Titans",
         55,
         null,
         "A Manohar"
        ],
        [
         2023,
         "2023-04-26",
         36,
         "Group",
         "M Chinnaswamy Stadium",
         "Bengaluru",
         "Kolkata Knight Riders",
         "Royal Challengers Bangalore",
         "Royal Challengers Bangalore",
         "field",
         "KN Ananthapadmanabhan",
         "R Pandit",
         "Abhijit Bhattacharya",
         "Amit Sharma",
         "Kolkata Knight Riders",
         21,
         null,
         "CV Varun"
        ],
        [
         2023,
         "2023-04-27",
         37,
         "Group",
         "Sawai Mansingh Stadium",
         "Jaipur",
         "Rajasthan Royals",
         "Chennai Super Kings",
         "Rajasthan Royals",
         "bat",
         "A Totre",
         "YC Barde",
         "Mohamad Rafi",
         "M Nayyar",
         "Rajasthan Royals",
         32,
         null,
         "YBK Jaiswal"
        ],
        [
         2023,
         "2023-04-28",
         38,
         "Group",
         "Punjab Cricket Association IS Bindra Stadium",
         "Chandigarh",
         "Lucknow Super Giants",
         "Punjab Kings",
         "Punjab Kings",
         "field",
         "Nitin Menon",
         "Vinod Seshan",
         "VM Dhokre",
         "Shakti Singh",
         "Lucknow Super Giants",
         56,
         null,
         "MP Stoinis"
        ],
        [
         2023,
         "2023-04-29",
         39,
         "Group",
         "Eden Gardens",
         "Kolkata",
         "Kolkata Knight Riders",
         "Gujarat Titans",
         "Gujarat Titans",
         "field",
         "NA Patwardhan",
         "GR Sadashiv Iyer",
         "M Krishnadas",
         "SA Satbhai",
         "Gujarat Titans",
         null,
         7,
         "J Little"
        ],
        [
         2023,
         "2023-04-29",
         40,
         "Group",
         "Arun Jaitley Stadium",
         "Delhi",
         "Sunrisers Hyderabad",
         "Delhi Capitals",
         "Sunrisers Hyderabad",
         "bat",
         "MA Gough",
         "Navdeep Singh",
         "P Joshi",
         "V Narayan Kutty",
         "Sunrisers Hyderabad",
         9,
         null,
         "MR Marsh"
        ],
        [
         2023,
         "2023-04-30",
         41,
         "Group",
         "MA Chidambaram Stadium",
         "Chennai",
         "Chennai Super Kings",
         "Punjab Kings",
         "Chennai Super Kings",
         "bat",
         "RJ Tucker",
         "UV Gandhe",
         "Mohamad Rafi",
         "M Nayyar",
         "Punjab Kings",
         null,
         4,
         "DP Conway"
        ],
        [
         2023,
         "2023-04-30",
         42,
         "Group",
         "Wankhede Stadium",
         "Mumbai",
         "Rajasthan Royals",
         "Mumbai Indians",
         "Rajasthan Royals",
         "bat",
         "Vinod Seshan",
         "VK Sharma",
         "VM Dhokre",
         "J Srinath",
         "Mumbai Indians",
         null,
         6,
         "YBK Jaiswal"
        ],
        [
         2023,
         "2023-05-01",
         43,
         "Group",
         "Bharat Ratna Shri Atal Bihari Vajpayee Ekana Cricket Stadium",
         "Lucknow",
         "Royal Challengers Bangalore",
         "Lucknow Super Giants",
         "Royal Challengers Bangalore",
         "bat",
         "AK Chaudhary",
         "GR Sadashiv Iyer",
         "M Krishnadas",
         "Prakash Bhatt",
         "Royal Challengers Bangalore",
         18,
         null,
         "F du Plessis"
        ],
        [
         2023,
         "2023-05-02",
         44,
         "Group",
         "Narendra Modi Stadium",
         "Ahmedabad",
         "Delhi Capitals",
         "Gujarat Titans",
         "Delhi Capitals",
         "bat",
         "MA Gough",
         "R Pandit",
         "P Joshi",
         "V Narayan Kutty",
         "Delhi Capitals",
         5,
         null,
         "Mohammed Shami"
        ],
        [
         2023,
         "2023-05-03",
         45,
         "Group",
         "Bharat Ratna Shri Atal Bihari Vajpayee Ekana Cricket Stadium",
         "Lucknow",
         "Lucknow Super Giants",
         "Chennai Super Kings",
         "Chennai Super Kings",
         "field",
         "AK Chaudhary",
         "NA Patwardhan",
         "M Krishnadas",
         "Prakash Bhatt",
         "No Result",
         null,
         null,
         null
        ],
        [
         2023,
         "2023-05-03",
         46,
         "Group",
         "Punjab Cricket Association IS Bindra Stadium",
         "Chandigarh",
         "Punjab Kings",
         "Mumbai Indians",
         "Mumbai Indians",
         "field",
         "J Madanagopal",
         "RJ Tucker",
         "Mohamad Rafi",
         "SS Raul",
         "Mumbai Indians",
         null,
         6,
         "Ishan Kishan"
        ],
        [
         2023,
         "2023-05-04",
         47,
         "Group",
         "Rajiv Gandhi International Stadium",
         "Hyderabad",
         "Kolkata Knight Riders",
         "Sunrisers Hyderabad",
         "Kolkata Knight Riders",
         "bat",
         "KN Ananthapadmanabhan",
         "MA Gough",
         "P Joshi",
         "V Narayan Kutty",
         "Kolkata Knight Riders",
         5,
         null,
         "CV Varun"
        ],
        [
         2023,
         "2023-05-05",
         48,
         "Group",
         "Sawai Mansingh Stadium",
         "Jaipur",
         "Rajasthan Royals",
         "Gujarat Titans",
         "Rajasthan Royals",
         "bat",
         "HAS Khalid",
         "VK Sharma",
         "VM Dhokre",
         "J Srinath",
         "Gujarat Titans",
         null,
         9,
         "Rashid Khan"
        ],
        [
         2023,
         "2023-05-06",
         49,
         "Group",
         "MA Chidambaram Stadium",
         "Chennai",
         "Mumbai Indians",
         "Chennai Super Kings",
         "Chennai Super Kings",
         "field",
         "BNJ Oxenford",
         "Navdeep Singh",
         "P Joshi",
         "V Narayan Kutty",
         "Chennai Super Kings",
         null,
         6,
         "M Pathirana"
        ],
        [
         2023,
         "2023-05-06",
         50,
         "Group",
         "Arun Jaitley Stadium",
         "Delhi",
         "Royal Challengers Bangalore",
         "Delhi Capitals",
         "Royal Challengers Bangalore",
         "bat",
         "RJ Tucker",
         "YC Barde",
         "Mohamad Rafi",
         "M Nayyar",
         "Delhi Capitals",
         null,
         7,
         "PD Salt"
        ],
        [
         2023,
         "2023-05-07",
         51,
         "Group",
         "Narendra Modi Stadium",
         "Ahmedabad",
         "Gujarat Titans",
         "Lucknow Super Giants",
         "Lucknow Super Giants",
         "field",
         "AK Chaudhary",
         "A Nand Kishore",
         "M Krishnadas",
         "Prakash Bhatt",
         "Gujarat Titans",
         56,
         null,
         "Shubman Gill"
        ],
        [
         2023,
         "2023-05-07",
         52,
         "Group",
         "Sawai Mansingh Stadium",
         "Jaipur",
         "Rajasthan Royals",
         "Sunrisers Hyderabad",
         "Rajasthan Royals",
         "bat",
         "Nitin Menon",
         "Vinod Seshan",
         "VM Dhokre",
         "J Srinath",
         "Sunrisers Hyderabad",
         null,
         4,
         "GD Phillips"
        ],
        [
         2023,
         "2023-05-08",
         53,
         "Group",
         "Eden Gardens",
         "Kolkata",
         "Punjab Kings",
         "Kolkata Knight Riders",
         "Punjab Kings",
         "bat",
         "A Totre",
         "J Madanagopal",
         "Mohamad Rafi",
         "SS Raul",
         "Kolkata Knight Riders",
         null,
         5,
         "AD Russell"
        ],
        [
         2023,
         "2023-05-09",
         54,
         "Group",
         "Wankhede Stadium",
         "Mumbai",
         "Royal Challengers Bangalore",
         "Mumbai Indians",
         "Mumbai Indians",
         "field",
         "HAS Khalid",
         "VK Sharma",
         "VM Dhokre",
         "RS Sodhi",
         "Mumbai Indians",
         null,
         6,
         "SA Yadav"
        ],
        [
         2023,
         "2023-05-10",
         55,
         "Group",
         "MA Chidambaram Stadium",
         "Chennai",
         "Chennai Super Kings",
         "Delhi Capitals",
         "Chennai Super Kings",
         "bat",
         "CB Gaffaney",
         "NA Patwardhan",
         "M Krishnadas",
         "Sanjay Verma",
         "Chennai Super Kings",
         27,
         null,
         "RA Jadeja"
        ],
        [
         2023,
         "2023-05-11",
         56,
         "Group",
         "Eden Gardens",
         "Kolkata",
         "Kolkata Knight Riders",
         "Rajasthan Royals",
         "Rajasthan Royals",
         "field",
         "RJ Tucker",
         "MV Saidharshan Kumar",
         "P Joshi",
         "P Dharmani",
         "Rajasthan Royals",
         null,
         9,
         "YBK Jaiswal"
        ],
        [
         2023,
         "2023-05-12",
         57,
         "Group",
         "Wankhede Stadium",
         "Mumbai",
         "Mumbai Indians",
         "Gujarat Titans",
         "Gujarat Titans",
         "field",
         "Nitin Menon",
         "Tapan Sharma",
         "VM Dhokre",
         "RS Sodhi",
         "Mumbai Indians",
         27,
         null,
         "SA Yadav"
        ],
        [
         2023,
         "2023-05-13",
         58,
         "Group",
         "Rajiv Gandhi International Stadium",
         "Hyderabad",
         "Sunrisers Hyderabad",
         "Lucknow Super Giants",
         "Sunrisers Hyderabad",
         "bat",
         "A Totre",
         "J Madanagopal",
         "Mohamad Rafi",
         "P Dharmani",
         "Lucknow Super Giants",
         null,
         7,
         "PN Mankad"
        ],
        [
         2023,
         "2023-05-13",
         59,
         "Group",
         "Arun Jaitley Stadium",
         "Delhi",
         "Punjab Kings",
         "Delhi Capitals",
         "Delhi Capitals",
         "field",
         "CB Gaffaney",
         "NA Patwardhan",
         "M Krishnadas",
         "Sanjay Verma",
         "Punjab Kings",
         31,
         null,
         "P Simran Singh"
        ],
        [
         2023,
         "2023-05-14",
         60,
         "Group",
         "Sawai Mansingh Stadium",
         "Jaipur",
         "Royal Challengers Bangalore",
         "Rajasthan Royals",
         "Royal Challengers Bangalore",
         "bat",
         "KN Ananthapadmanabhan",
         "Navdeep Singh",
         "P Joshi",
         "V Narayan Kutty",
         "Royal Challengers Bangalore",
         112,
         null,
         "WD Parnell"
        ],
        [
         2023,
         "2023-05-14",
         61,
         "Group",
         "MA Chidambaram Stadium",
         "Chennai",
         "Chennai Super Kings",
         "Kolkata Knight Riders",
         "Chennai Super Kings",
         "bat",
         "Tapan Sharma",
         "Vinod Seshan",
         "VM Dhokre",
         "J Srinath",
         "Kolkata Knight Riders",
         null,
         6,
         "RK Singh"
        ],
        [
         2023,
         "2023-05-15",
         62,
         "Group",
         "Narendra Modi Stadium",
         "Ahmedabad",
         "Gujarat Titans",
         "Sunrisers Hyderabad",
         "Sunrisers Hyderabad",
         "field",
         "J Madanagopal",
         "UV Gandhe",
         "Mohamad Rafi",
         "M Nayyar",
         "Gujarat Titans",
         34,
         null,
         "Shubman Gill"
        ],
        [
         2023,
         "2023-05-16",
         63,
         "Group",
         "Bharat Ratna Shri Atal Bihari Vajpayee Ekana Cricket Stadium",
         "Lucknow",
         "Lucknow Super Giants",
         "Mumbai Indians",
         "Mumbai Indians",
         "field",
         "AK Chaudhary",
         "A Nand Kishore",
         "M Krishnadas",
         "Sanjay Verma",
         "Lucknow Super Giants",
         5,
         null,
         "MP Stoinis"
        ],
        [
         2023,
         "2023-05-17",
         64,
         "Group",
         "Himachal Pradesh Cricket Association Stadium",
         "Dharamsala",
         "Delhi Capitals",
         "Punjab Kings",
         "Punjab Kings",
         "field",
         "KN Ananthapadmanabhan",
         "MV Saidharshan Kumar",
         "P Joshi",
         "P Dharmani",
         "Delhi Capitals",
         15,
         null,
         "RR Rossouw"
        ],
        [
         2023,
         "2023-05-18",
         65,
         "Group",
         "Rajiv Gandhi International Stadium",
         "Hyderabad",
         "Sunrisers Hyderabad",
         "Royal Challengers Bangalore",
         "Royal Challengers Bangalore",
         "field",
         "BNJ Oxenford",
         "VK Sharma",
         "VM Dhokre",
         "J Srinath",
         "Royal Challengers Bangalore",
         null,
         8,
         "V Kohli"
        ],
        [
         2023,
         "2023-05-19",
         66,
         "Group",
         "Himachal Pradesh Cricket Association Stadium",
         "Dharamsala",
         "Punjab Kings",
         "Rajasthan Royals",
         "Rajasthan Royals",
         "field",
         "A Nand Kishore",
         "RJ Tucker",
         "P Joshi",
         "P Dharmani",
         "Rajasthan Royals",
         null,
         4,
         "D Padikkal"
        ],
        [
         2023,
         "2023-05-20",
         67,
         "Group",
         "Arun Jaitley Stadium",
         "Delhi",
         "Chennai Super Kings",
         "Delhi Capitals",
         "Chennai Super Kings",
         "bat",
         "CB Gaffaney",
         "NA Patwardhan",
         "M Krishnadas",
         "Sanjay Verma",
         "Chennai Super Kings",
         77,
         null,
         "RD Gaikwad"
        ],
        [
         2023,
         "2023-05-20",
         68,
         "Group",
         "Eden Gardens",
         "Kolkata",
         "Lucknow Super Giants",
         "Kolkata Knight Riders",
         "Kolkata Knight Riders",
         "field",
         "J Madanagopal",
         "UV Gandhe",
         "Mohamad Rafi",
         "M Nayyar",
         "Lucknow Super Giants",
         1,
         null,
         "N Pooran"
        ],
        [
         2023,
         "2023-05-21",
         69,
         "Group",
         "Wankhede Stadium",
         "Mumbai",
         "Sunrisers Hyderabad",
         "Mumbai Indians",
         "Mumbai Indians",
         "field",
         "KN Ananthapadmanabhan",
         "RJ Tucker",
         "P Joshi",
         "P Dharmani",
         "Mumbai Indians",
         null,
         8,
         "C Green"
        ],
        [
         2023,
         "2023-05-21",
         70,
         "Group",
         "M Chinnaswamy Stadium",
         "Bengaluru",
         "Royal Challengers Bangalore",
         "Gujarat Titans",
         "Gujarat Titans",
         "field",
         "Nitin Menon",
         "VK Sharma",
         "VM Dhokre",
         "J Srinath",
         "Gujarat Titans",
         null,
         6,
         "Shubman Gill"
        ],
        [
         2023,
         "2023-05-23",
         71,
         "Qualifier",
         "MA Chidambaram Stadium",
         "Chennai",
         "Chennai Super Kings",
         "Gujarat Titans",
         "Gujarat Titans",
         "field",
         "AK Chaudhary",
         "CB Gaffaney",
         "VK Sharma",
         "M Nayyar",
         "Chennai Super Kings",
         15,
         null,
         "RD Gaikwad"
        ],
        [
         2023,
         "2023-05-24",
         72,
         "Eliminator",
         "MA Chidambaram Stadium",
         "Chennai",
         "Mumbai Indians",
         "Lucknow Super Giants",
         "Mumbai Indians",
         "bat",
         "BNJ Oxenford",
         "VK Sharma",
         "AK Chaudhary",
         "V Narayan Kutty",
         "Mumbai Indians",
         81,
         null,
         "Akash Madhwal"
        ],
        [
         2023,
         "2023-05-26",
         73,
         "Qualifier",
         "Narendra Modi Stadium",
         "Ahmedabad",
         "Gujarat Titans",
         "Mumbai Indians",
         "Mumbai Indians",
         "field",
         "Nitin Menon",
         "RJ Tucker",
         "KN Ananthapadmanabhan",
         "J Srinath",
         "Gujarat Titans",
         62,
         null,
         "Shubman Gill"
        ],
        [
         2023,
         "2023-05-29",
         74,
         "Final",
         "Narendra Modi Stadium",
         "Ahmedabad",
         "Chennai Super Kings",
         "Gujarat Titans",
         "Chennai Super Kings",
         "field",
         "Nitin Menon",
         "RJ Tucker",
         "J Madanagopal",
         "J Srinath",
         "Chennai Super Kings",
         null,
         5,
         "DP Conway"
        ]
       ],
       "datasetInfos": [],
       "dbfsResultPath": null,
       "isJsonSchema": true,
       "metadata": {},
       "overflow": false,
       "plotOptions": {
        "customPlotOptions": {},
        "displayType": "table",
        "pivotAggregation": null,
        "pivotColumns": null,
        "xColumns": null,
        "yColumns": null
       },
       "removedWidgets": [],
       "schema": [
        {
         "metadata": "{}",
         "name": "season",
         "type": "\"integer\""
        },
        {
         "metadata": "{\"__detected_date_formats\":\"d-M-yyyy\"}",
         "name": "date",
         "type": "\"date\""
        },
        {
         "metadata": "{}",
         "name": "match_number",
         "type": "\"integer\""
        },
        {
         "metadata": "{}",
         "name": "match_type",
         "type": "\"string\""
        },
        {
         "metadata": "{}",
         "name": "venue",
         "type": "\"string\""
        },
        {
         "metadata": "{}",
         "name": "location",
         "type": "\"string\""
        },
        {
         "metadata": "{}",
         "name": "team1",
         "type": "\"string\""
        },
        {
         "metadata": "{}",
         "name": "team2",
         "type": "\"string\""
        },
        {
         "metadata": "{}",
         "name": "toss_won",
         "type": "\"string\""
        },
        {
         "metadata": "{}",
         "name": "toss_decision",
         "type": "\"string\""
        },
        {
         "metadata": "{}",
         "name": "umpire1",
         "type": "\"string\""
        },
        {
         "metadata": "{}",
         "name": "umpire2",
         "type": "\"string\""
        },
        {
         "metadata": "{}",
         "name": "reserve_umpire",
         "type": "\"string\""
        },
        {
         "metadata": "{}",
         "name": "match_referee",
         "type": "\"string\""
        },
        {
         "metadata": "{}",
         "name": "winner",
         "type": "\"string\""
        },
        {
         "metadata": "{}",
         "name": "winner_runs",
         "type": "\"integer\""
        },
        {
         "metadata": "{}",
         "name": "winner_wickets",
         "type": "\"integer\""
        },
        {
         "metadata": "{}",
         "name": "man_of_match",
         "type": "\"string\""
        }
       ],
       "type": "table"
      }
     },
     "output_type": "display_data"
    }
   ],
   "source": [
    "# Load CSV data using Spark, specifying file location directly\n",
    "df = spark.read.csv(\"dbfs:/FileStore/datasets/each_match_records.csv\", header=True, inferSchema=True)\n",
    "\n",
    "# Display the DataFrame\n",
    "display(df)\n"
   ]
  }
 ],
 "metadata": {
  "application/vnd.databricks.v1+notebook": {
   "dashboards": [],
   "language": "python",
   "notebookMetadata": {
    "pythonIndentUnit": 4
   },
   "notebookName": "IPL 2023  AND CSK ANALYSIS",
   "widgets": {}
  }
 },
 "nbformat": 4,
 "nbformat_minor": 0
}
